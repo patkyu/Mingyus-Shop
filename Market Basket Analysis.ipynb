{
 "cells": [
  {
   "cell_type": "code",
   "execution_count": 1,
   "id": "23dcbaa5-59fe-4a25-8119-f69bfa93f633",
   "metadata": {},
   "outputs": [],
   "source": [
    "import pandas as pd\n",
    "import numpy as np\n",
    "import seaborn as sns\n",
    "import matplotlib.pyplot as plt\n",
    "\n",
    "# hide warnings\n",
    "import warnings\n",
    "warnings.filterwarnings('ignore')\n",
    "\n",
    "# print all columns\n",
    "pd.set_option('display.max_columns', None)\n",
    "pd.set_option('display.max_rows', None)"
   ]
  },
  {
   "cell_type": "markdown",
   "id": "c7a0efd1-3e9f-4e0e-9d45-00ee5862f2d8",
   "metadata": {},
   "source": [
    "- The data for Market Basket Analysis comes in many form which has to be transformed to use with the `apyori` package."
   ]
  },
  {
   "cell_type": "markdown",
   "id": "e3419145-9cd1-4105-acce-159a338f30ca",
   "metadata": {},
   "source": [
    "# 1. Basic Example"
   ]
  },
  {
   "cell_type": "markdown",
   "id": "75270145-2bec-43eb-bb4a-4a08a7833413",
   "metadata": {},
   "source": [
    "Comma separated dataset having each record as products sold in a single transaction."
   ]
  },
  {
   "cell_type": "code",
   "execution_count": 2,
   "id": "27958351-f3e4-4692-9706-872655d15037",
   "metadata": {},
   "outputs": [
    {
     "data": {
      "text/html": [
       "<div>\n",
       "<style scoped>\n",
       "    .dataframe tbody tr th:only-of-type {\n",
       "        vertical-align: middle;\n",
       "    }\n",
       "\n",
       "    .dataframe tbody tr th {\n",
       "        vertical-align: top;\n",
       "    }\n",
       "\n",
       "    .dataframe thead th {\n",
       "        text-align: right;\n",
       "    }\n",
       "</style>\n",
       "<table border=\"1\" class=\"dataframe\">\n",
       "  <thead>\n",
       "    <tr style=\"text-align: right;\">\n",
       "      <th></th>\n",
       "      <th>0</th>\n",
       "      <th>1</th>\n",
       "      <th>2</th>\n",
       "      <th>3</th>\n",
       "      <th>4</th>\n",
       "      <th>5</th>\n",
       "      <th>6</th>\n",
       "      <th>7</th>\n",
       "      <th>8</th>\n",
       "      <th>9</th>\n",
       "    </tr>\n",
       "  </thead>\n",
       "  <tbody>\n",
       "    <tr>\n",
       "      <th>0</th>\n",
       "      <td>shrimp</td>\n",
       "      <td>almonds</td>\n",
       "      <td>avocado</td>\n",
       "      <td>vegetables mix</td>\n",
       "      <td>green grapes</td>\n",
       "      <td>whole weat flour</td>\n",
       "      <td>yams</td>\n",
       "      <td>cottage cheese</td>\n",
       "      <td>energy drink</td>\n",
       "      <td>tomato juice</td>\n",
       "    </tr>\n",
       "    <tr>\n",
       "      <th>1</th>\n",
       "      <td>burgers</td>\n",
       "      <td>meatballs</td>\n",
       "      <td>eggs</td>\n",
       "      <td>NaN</td>\n",
       "      <td>NaN</td>\n",
       "      <td>NaN</td>\n",
       "      <td>NaN</td>\n",
       "      <td>NaN</td>\n",
       "      <td>NaN</td>\n",
       "      <td>NaN</td>\n",
       "    </tr>\n",
       "    <tr>\n",
       "      <th>2</th>\n",
       "      <td>chutney</td>\n",
       "      <td>NaN</td>\n",
       "      <td>NaN</td>\n",
       "      <td>NaN</td>\n",
       "      <td>NaN</td>\n",
       "      <td>NaN</td>\n",
       "      <td>NaN</td>\n",
       "      <td>NaN</td>\n",
       "      <td>NaN</td>\n",
       "      <td>NaN</td>\n",
       "    </tr>\n",
       "    <tr>\n",
       "      <th>3</th>\n",
       "      <td>turkey</td>\n",
       "      <td>avocado</td>\n",
       "      <td>NaN</td>\n",
       "      <td>NaN</td>\n",
       "      <td>NaN</td>\n",
       "      <td>NaN</td>\n",
       "      <td>NaN</td>\n",
       "      <td>NaN</td>\n",
       "      <td>NaN</td>\n",
       "      <td>NaN</td>\n",
       "    </tr>\n",
       "    <tr>\n",
       "      <th>4</th>\n",
       "      <td>mineral water</td>\n",
       "      <td>milk</td>\n",
       "      <td>energy bar</td>\n",
       "      <td>whole wheat rice</td>\n",
       "      <td>green tea</td>\n",
       "      <td>NaN</td>\n",
       "      <td>NaN</td>\n",
       "      <td>NaN</td>\n",
       "      <td>NaN</td>\n",
       "      <td>NaN</td>\n",
       "    </tr>\n",
       "  </tbody>\n",
       "</table>\n",
       "</div>"
      ],
      "text/plain": [
       "               0          1           2                 3             4  \\\n",
       "0         shrimp    almonds     avocado    vegetables mix  green grapes   \n",
       "1        burgers  meatballs        eggs               NaN           NaN   \n",
       "2        chutney        NaN         NaN               NaN           NaN   \n",
       "3         turkey    avocado         NaN               NaN           NaN   \n",
       "4  mineral water       milk  energy bar  whole wheat rice     green tea   \n",
       "\n",
       "                  5     6               7             8             9  \n",
       "0  whole weat flour  yams  cottage cheese  energy drink  tomato juice  \n",
       "1               NaN   NaN             NaN           NaN           NaN  \n",
       "2               NaN   NaN             NaN           NaN           NaN  \n",
       "3               NaN   NaN             NaN           NaN           NaN  \n",
       "4               NaN   NaN             NaN           NaN           NaN  "
      ]
     },
     "execution_count": 2,
     "metadata": {},
     "output_type": "execute_result"
    }
   ],
   "source": [
    "# import data\n",
    "df1 = pd.read_csv('online_retail_basic.csv', header = None)\n",
    "df1.head()"
   ]
  },
  {
   "cell_type": "code",
   "execution_count": 3,
   "id": "4f94d80e-57aa-4020-ab07-234b4857e0d5",
   "metadata": {},
   "outputs": [
    {
     "data": {
      "text/plain": [
       "(20, 10)"
      ]
     },
     "execution_count": 3,
     "metadata": {},
     "output_type": "execute_result"
    }
   ],
   "source": [
    "df1.shape"
   ]
  },
  {
   "cell_type": "markdown",
   "id": "9215b9ce-3367-47df-9206-cb018140312d",
   "metadata": {},
   "source": [
    "- We have a dataset with **7,501 transactions** and each transaction has **at most 20 products**.\n",
    "- We will now convert this data into the structure required for `apyori` package i.e. `list` of transactions and each transaction represnted as a `tuple`."
   ]
  },
  {
   "cell_type": "code",
   "execution_count": 4,
   "id": "c59e9e02-1446-477f-a777-2204308933e0",
   "metadata": {},
   "outputs": [
    {
     "name": "stdout",
     "output_type": "stream",
     "text": [
      "CPU times: total: 31.2 ms\n",
      "Wall time: 19 ms\n"
     ]
    }
   ],
   "source": [
    "%%time\n",
    "\n",
    "records = []\n",
    "for i in range(len(df1)):\n",
    "    records.append(tuple(df1.loc[i, pd.notna(df1.iloc[i, :])]))"
   ]
  },
  {
   "cell_type": "code",
   "execution_count": 5,
   "id": "a8f23493-8d78-4fc2-8a1a-2a290cc3f243",
   "metadata": {},
   "outputs": [
    {
     "name": "stdout",
     "output_type": "stream",
     "text": [
      "1 - ('shrimp', 'almonds', 'avocado', 'vegetables mix', 'green grapes', 'whole weat flour', 'yams', 'cottage cheese', 'energy drink', 'tomato juice')\n",
      "2 - ('burgers', 'meatballs', 'eggs')\n",
      "3 - ('chutney',)\n",
      "4 - ('turkey', 'avocado')\n",
      "5 - ('mineral water', 'milk', 'energy bar', 'whole wheat rice', 'green tea')\n"
     ]
    }
   ],
   "source": [
    "for e in range(5):\n",
    "    print(e+1, records[e], sep = \" - \")"
   ]
  },
  {
   "cell_type": "markdown",
   "id": "1abcb258-ae81-4e28-bf1a-a5ca93633311",
   "metadata": {
    "tags": []
   },
   "source": [
    "### `apyori.apriori`"
   ]
  },
  {
   "cell_type": "code",
   "execution_count": 6,
   "id": "48b31fa1-4980-4863-8974-b91d01dec1c6",
   "metadata": {},
   "outputs": [],
   "source": [
    "# Apriori Algorithm\n",
    "from apyori import apriori\n",
    "\n",
    "association_rules = apriori(transactions = records,\n",
    "                            min_support = .0045,     # consider items(sets) appearing 0.45% of the time\n",
    "                            min_confidence = 0.2,\n",
    "                            min_lift = 3,\n",
    "                            min_length = 2     # minimum items in an itemset\n",
    "                           )"
   ]
  },
  {
   "cell_type": "code",
   "execution_count": 7,
   "id": "8847d1e8-8df6-400c-a0d2-c3a7866c5458",
   "metadata": {},
   "outputs": [],
   "source": [
    "association_results = list(association_rules)"
   ]
  },
  {
   "cell_type": "code",
   "execution_count": 8,
   "id": "0ae40e47-ab60-435a-ab92-5bcebe639494",
   "metadata": {},
   "outputs": [
    {
     "data": {
      "text/plain": [
       "2218"
      ]
     },
     "execution_count": 8,
     "metadata": {},
     "output_type": "execute_result"
    }
   ],
   "source": [
    "len(association_results)"
   ]
  },
  {
   "cell_type": "code",
   "execution_count": 9,
   "id": "52bfead5-b299-4902-a028-2117fd311497",
   "metadata": {},
   "outputs": [
    {
     "name": "stdout",
     "output_type": "stream",
     "text": [
      "1 - RelationRecord(items=frozenset({'almonds', 'avocado'}), support=0.05, ordered_statistics=[OrderedStatistic(items_base=frozenset({'almonds'}), items_add=frozenset({'avocado'}), confidence=1.0, lift=10.0), OrderedStatistic(items_base=frozenset({'avocado'}), items_add=frozenset({'almonds'}), confidence=0.5, lift=10.0)])\n",
      "2 - RelationRecord(items=frozenset({'almonds', 'cottage cheese'}), support=0.05, ordered_statistics=[OrderedStatistic(items_base=frozenset({'almonds'}), items_add=frozenset({'cottage cheese'}), confidence=1.0, lift=20.0), OrderedStatistic(items_base=frozenset({'cottage cheese'}), items_add=frozenset({'almonds'}), confidence=1.0, lift=20.0)])\n",
      "3 - RelationRecord(items=frozenset({'energy drink', 'almonds'}), support=0.05, ordered_statistics=[OrderedStatistic(items_base=frozenset({'almonds'}), items_add=frozenset({'energy drink'}), confidence=1.0, lift=20.0), OrderedStatistic(items_base=frozenset({'energy drink'}), items_add=frozenset({'almonds'}), confidence=1.0, lift=20.0)])\n",
      "4 - RelationRecord(items=frozenset({'almonds', 'green grapes'}), support=0.05, ordered_statistics=[OrderedStatistic(items_base=frozenset({'almonds'}), items_add=frozenset({'green grapes'}), confidence=1.0, lift=20.0), OrderedStatistic(items_base=frozenset({'green grapes'}), items_add=frozenset({'almonds'}), confidence=1.0, lift=20.0)])\n",
      "5 - RelationRecord(items=frozenset({'almonds', 'shrimp'}), support=0.05, ordered_statistics=[OrderedStatistic(items_base=frozenset({'almonds'}), items_add=frozenset({'shrimp'}), confidence=1.0, lift=10.0), OrderedStatistic(items_base=frozenset({'shrimp'}), items_add=frozenset({'almonds'}), confidence=0.5, lift=10.0)])\n"
     ]
    }
   ],
   "source": [
    "for e in range(5):\n",
    "    print(e+1, association_results[e], sep = \" - \")"
   ]
  },
  {
   "cell_type": "raw",
   "id": "26dce4bf-f237-4c1d-b176-6c550af7e1ab",
   "metadata": {},
   "source": [
    "This is how the output of a rule looks - \n",
    "\n",
    "In OrderedStatictic, both [beer -> nuts] and [nuts -> beer] rules' statistics will be given.\n",
    "\n",
    "RelationRecord(items=frozenset({'beer', 'nuts'}),\n",
    "               support=0.5,\n",
    "               ordered_statistics=[OrderedStatistic(items_base=frozenset({'beer'}),\n",
    "                                                    items_add=frozenset({'nuts'}),\n",
    "                                                    confidence=0.5,\n",
    "                                                    lift=1.0),\n",
    "                                   OrderedStatistic(items_base=frozenset({'nuts'}),\n",
    "                                                    items_add=frozenset({'beer'}),\n",
    "                                                    confidence=1.0,\n",
    "                                                    lift=1.0)])"
   ]
  },
  {
   "cell_type": "code",
   "execution_count": 10,
   "id": "88d28611-7085-47c2-96ee-40c5689c33ff",
   "metadata": {},
   "outputs": [
    {
     "name": "stdout",
     "output_type": "stream",
     "text": [
      "Rule: almonds -> avocado\n",
      "Support: 0.05\n",
      "Confidence: 1.0\n",
      "Lift: 10.0\n",
      "=====================================\n",
      "Rule: almonds -> cottage cheese\n",
      "Support: 0.05\n",
      "Confidence: 1.0\n",
      "Lift: 20.0\n",
      "=====================================\n",
      "Rule: energy drink -> almonds\n",
      "Support: 0.05\n",
      "Confidence: 1.0\n",
      "Lift: 20.0\n",
      "=====================================\n",
      "Rule: almonds -> green grapes\n",
      "Support: 0.05\n",
      "Confidence: 1.0\n",
      "Lift: 20.0\n",
      "=====================================\n",
      "Rule: almonds -> shrimp\n",
      "Support: 0.05\n",
      "Confidence: 1.0\n",
      "Lift: 10.0\n",
      "=====================================\n"
     ]
    }
   ],
   "source": [
    "# print rules in proper format\n",
    "for item in association_results[:5]:\n",
    "\n",
    "    # first index of the inner list\n",
    "    # Contains base item and add item\n",
    "    pair = item[0] \n",
    "    items = [x for x in pair]\n",
    "    print(\"Rule: \" + items[0] + \" -> \" + items[1])\n",
    "\n",
    "    #second index of the inner list\n",
    "    print(\"Support: \" + str(item[1]))\n",
    "\n",
    "    #third index of the list located at 0th\n",
    "    #of the third index of the inner list\n",
    "\n",
    "    print(\"Confidence: \" + str(item[2][0][2]))\n",
    "    print(\"Lift: \" + str(item[2][0][3]))\n",
    "    print(\"=====================================\")"
   ]
  },
  {
   "cell_type": "markdown",
   "id": "5befd16c-ef79-4498-a8d1-d2069099a5dc",
   "metadata": {},
   "source": [
    "# THE END"
   ]
  }
 ],
 "metadata": {
  "kernelspec": {
   "display_name": "Python 3.9.6 64-bit",
   "language": "python",
   "name": "python3"
  },
  "language_info": {
   "codemirror_mode": {
    "name": "ipython",
    "version": 3
   },
   "file_extension": ".py",
   "mimetype": "text/x-python",
   "name": "python",
   "nbconvert_exporter": "python",
   "pygments_lexer": "ipython3",
   "version": "3.9.6"
  },
  "vscode": {
   "interpreter": {
    "hash": "ba4390b1fff6b3ae7cc77812f1bd5f0f397a1366f216cbb554504c5d57a4c3d7"
   }
  }
 },
 "nbformat": 4,
 "nbformat_minor": 5
}
